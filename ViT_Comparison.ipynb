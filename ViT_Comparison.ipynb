{
 "cells": [
  {
   "cell_type": "markdown",
   "id": "918372b2",
   "metadata": {},
   "source": [
    "# ViT Classification on CIFAR-10\n",
    "\n",
    "This notebook contains the code to train and evaluate a ViT model on the CIFAR-10 dataset to compare with the Swin Transformer model. All code apart from model definition is exactly the same as the main notebook for training the Swin Transformer model.\n",
    "\n",
    "**NOTE: We have not implemented the ViT model on our own. We have re-used the tensorflow implementation of the ViT model found at https://github.com/emla2805/vision-transformer**. The ViT model we use has reduced complexity (10M Parameters)"
   ]
  },
  {
   "cell_type": "code",
   "execution_count": 21,
   "id": "WKmicBSel7mo",
   "metadata": {
    "colab": {
     "base_uri": "https://localhost:8080/"
    },
    "id": "WKmicBSel7mo",
    "outputId": "c9b50b28-a528-4333-8045-5976c3f95b23",
    "scrolled": true
   },
   "outputs": [
    {
     "name": "stdout",
     "output_type": "stream",
     "text": [
      "Looking in indexes: https://pypi.org/simple, https://us-python.pkg.dev/colab-wheels/public/simple/\n",
      "Requirement already satisfied: tensorflow-addons in /usr/local/lib/python3.8/dist-packages (0.19.0)\n",
      "Requirement already satisfied: packaging in /usr/local/lib/python3.8/dist-packages (from tensorflow-addons) (21.3)\n",
      "Requirement already satisfied: typeguard>=2.7 in /usr/local/lib/python3.8/dist-packages (from tensorflow-addons) (2.7.1)\n",
      "Requirement already satisfied: pyparsing!=3.0.5,>=2.0.2 in /usr/local/lib/python3.8/dist-packages (from packaging->tensorflow-addons) (3.0.9)\n"
     ]
    }
   ],
   "source": [
    "!pip install tensorflow-addons"
   ]
  },
  {
   "cell_type": "code",
   "execution_count": 22,
   "id": "de2356a7",
   "metadata": {
    "id": "de2356a7"
   },
   "outputs": [],
   "source": [
    "import tensorflow as tf\n",
    "import tensorflow_datasets as tfds\n",
    "import tensorflow_addons as tfa\n",
    "import matplotlib.pyplot as plt\n",
    "import os\n",
    "\n",
    "#Disable warnings\n",
    "os.environ['TF_CPP_MIN_LOG_LEVEL'] = '2'\n",
    "tf.get_logger().setLevel('ERROR')"
   ]
  },
  {
   "cell_type": "code",
   "execution_count": 23,
   "id": "f094dbf4",
   "metadata": {
    "id": "f094dbf4"
   },
   "outputs": [],
   "source": [
    "# Load data\n",
    "batch_size = 64\n",
    "img_height = 32\n",
    "img_width = 32\n",
    "\n",
    "train_ds = tfds.load('cifar10', split='train', shuffle_files=True)\n",
    "val_ds = tfds.load('cifar10', split='test', shuffle_files=False)\n",
    "\n",
    "AUTOTUNE = tf.data.AUTOTUNE\n",
    "\n",
    "# Add data augmentations\n",
    "trainAug = tf.keras.Sequential([\n",
    "    tf.keras.layers.Resizing(img_height, img_width),\n",
    "    tf.keras.layers.Rescaling(scale=1.0 / 255),\n",
    "    tf.keras.layers.RandomFlip(\"horizontal_and_vertical\"),\n",
    "])\n",
    "# For validation, we just use resize/rescale\n",
    "valAug = tf.keras.Sequential([\n",
    "    tf.keras.layers.Resizing(img_height, img_width),\n",
    "    tf.keras.layers.Rescaling(scale=1.0 / 255)\n",
    "])\n",
    "\n",
    "train_ds = train_ds.map(lambda features: (trainAug(features['image']), features['label']), \n",
    "                        num_parallel_calls=tf.data.AUTOTUNE)\n",
    "val_ds = val_ds.map(lambda features: (valAug(features['image']), features['label']), \n",
    "                        num_parallel_calls=tf.data.AUTOTUNE)\n",
    "\n",
    "train_ds = train_ds.cache()\n",
    "train_ds = train_ds.batch(batch_size)\n",
    "train_ds = train_ds.prefetch(tf.data.AUTOTUNE)\n",
    "\n",
    "val_ds = val_ds.cache()\n",
    "val_ds = val_ds.batch(batch_size)\n",
    "val_ds = val_ds.prefetch(tf.data.AUTOTUNE)"
   ]
  },
  {
   "cell_type": "code",
   "execution_count": 24,
   "id": "3a1739ce",
   "metadata": {
    "colab": {
     "base_uri": "https://localhost:8080/"
    },
    "id": "3a1739ce",
    "outputId": "b8e948d5-3e99-4a75-b1d9-8b4cafb6acc7"
   },
   "outputs": [
    {
     "name": "stdout",
     "output_type": "stream",
     "text": [
      "(64, 32, 32, 3) (64,)\n"
     ]
    }
   ],
   "source": [
    "images, labels = next(iter(train_ds))\n",
    "print(images.shape, labels.shape)"
   ]
  },
  {
   "cell_type": "code",
   "execution_count": 25,
   "id": "93283d57",
   "metadata": {
    "colab": {
     "base_uri": "https://localhost:8080/"
    },
    "id": "93283d57",
    "outputId": "13f330ce-95e1-4d71-fb53-b2d5dcae6b77"
   },
   "outputs": [
    {
     "name": "stderr",
     "output_type": "stream",
     "text": [
      "/usr/local/lib/python3.8/dist-packages/tensorflow/python/client/session.py:1768: UserWarning: An interactive session is already active. This can cause out-of-memory errors in some cases. You must explicitly call `InteractiveSession.close()` to release resources held by the other session(s).\n",
      "  warnings.warn('An interactive session is already active. This can '\n"
     ]
    }
   ],
   "source": [
    "from tensorflow.compat.v1 import ConfigProto\n",
    "from tensorflow.compat.v1 import InteractiveSession\n",
    "config = ConfigProto()\n",
    "config.gpu_options.allow_growth = True\n",
    "session = InteractiveSession(config=config)\n"
   ]
  },
  {
   "cell_type": "code",
   "execution_count": 26,
   "id": "98c6da5d",
   "metadata": {
    "colab": {
     "base_uri": "https://localhost:8080/"
    },
    "id": "98c6da5d",
    "outputId": "b0194235-6c5a-4693-84e4-e31175e8baef"
   },
   "outputs": [
    {
     "name": "stdout",
     "output_type": "stream",
     "text": [
      "# of batches in train set:  782\n"
     ]
    }
   ],
   "source": [
    "num_batches = train_ds.reduce(0, lambda x,_: x+1).numpy()\n",
    "print('# of batches in train set: ',num_batches)"
   ]
  },
  {
   "cell_type": "code",
   "execution_count": 27,
   "id": "bb762509",
   "metadata": {
    "colab": {
     "base_uri": "https://localhost:8080/"
    },
    "id": "bb762509",
    "outputId": "3a140402-56dc-4eb0-e5f0-622be521d872"
   },
   "outputs": [
    {
     "data": {
      "text/plain": [
       "[PhysicalDevice(name='/physical_device:GPU:0', device_type='GPU')]"
      ]
     },
     "execution_count": 27,
     "metadata": {},
     "output_type": "execute_result"
    }
   ],
   "source": [
    "#Check GPU\n",
    "tf.config.list_physical_devices('GPU')"
   ]
  },
  {
   "cell_type": "code",
   "execution_count": 35,
   "id": "6828d308",
   "metadata": {
    "id": "6828d308"
   },
   "outputs": [],
   "source": [
    "input_shape = (img_height, img_width, 3)\n",
    "\n",
    "learning_rate = 5e-4\n",
    "num_epochs = 35\n",
    "weight_decay = 5e-5\n",
    "\n",
    "total_steps = int(num_epochs * num_batches)"
   ]
  },
  {
   "cell_type": "code",
   "execution_count": 36,
   "id": "78bd3f5a",
   "metadata": {
    "colab": {
     "base_uri": "https://localhost:8080/"
    },
    "id": "78bd3f5a",
    "outputId": "59bd2ad9-d9d2-4bd8-9713-4436896f2d2e"
   },
   "outputs": [
    {
     "name": "stdout",
     "output_type": "stream",
     "text": [
      "Model: \"sequential_93\"\n",
      "_________________________________________________________________\n",
      " Layer (type)                Output Shape              Param #   \n",
      "=================================================================\n",
      " vision_transformer_8 (Visio  (None, 1000)             10303464  \n",
      " nTransformer)                                                   \n",
      "                                                                 \n",
      " flatten_3 (Flatten)         (None, 1000)              0         \n",
      "                                                                 \n",
      " dense_462 (Dense)           (None, 10)                10010     \n",
      "                                                                 \n",
      "=================================================================\n",
      "Total params: 10,313,474\n",
      "Trainable params: 10,313,474\n",
      "Non-trainable params: 0\n",
      "_________________________________________________________________\n"
     ]
    }
   ],
   "source": [
    "#Define and compile model\n",
    "from utils.model_vit import VisionTransformer\n",
    "\n",
    "\n",
    "\n",
    "model = tf.keras.Sequential([\n",
    "    tf.keras.layers.Input(shape=input_shape),\n",
    "     VisionTransformer(image_size=32, patch_size=4, num_layers=6,num_classes=1000,mlp_dim=512,num_heads=8,d_model=512),\n",
    "     tf.keras.layers.Flatten(),\n",
    "     tf.keras.layers.Dense(10, activation='softmax')\n",
    "])\n",
    "model.summary()\n",
    "metric1 = tf.keras.metrics.SparseCategoricalAccuracy(name=\"accuracy\")\n",
    "metric2 = tf.keras.metrics.SparseTopKCategoricalAccuracy(3, name=\"top3_accuracy\")\n",
    "\n",
    "model.compile(\n",
    "    loss=tf.keras.losses.SparseCategoricalCrossentropy(),\n",
    "    optimizer=tfa.optimizers.AdamW(learning_rate=learning_rate, weight_decay=weight_decay),\n",
    "    metrics=[metric1, metric2]\n",
    ")"
   ]
  },
  {
   "cell_type": "code",
   "execution_count": 37,
   "id": "c0ae551d",
   "metadata": {
    "colab": {
     "base_uri": "https://localhost:8080/"
    },
    "id": "c0ae551d",
    "outputId": "a3aee2d6-a9cc-455a-900d-3f58cc216198"
   },
   "outputs": [
    {
     "name": "stdout",
     "output_type": "stream",
     "text": [
      "The tensorboard extension is already loaded. To reload it, use:\n",
      "  %reload_ext tensorboard\n",
      "Epoch 1/35\n",
      "782/782 [==============================] - 138s 164ms/step - loss: 2.3036 - accuracy: 0.1223 - top3_accuracy: 0.3387 - val_loss: 2.3076 - val_accuracy: 0.1398 - val_top3_accuracy: 0.3936\n",
      "Epoch 2/35\n",
      "782/782 [==============================] - 126s 161ms/step - loss: 2.1636 - accuracy: 0.1818 - top3_accuracy: 0.4583 - val_loss: 2.2411 - val_accuracy: 0.1487 - val_top3_accuracy: 0.4006\n",
      "Epoch 3/35\n",
      "782/782 [==============================] - 126s 161ms/step - loss: 2.1241 - accuracy: 0.1947 - top3_accuracy: 0.4906 - val_loss: 2.1863 - val_accuracy: 0.1734 - val_top3_accuracy: 0.4364\n",
      "Epoch 4/35\n",
      "782/782 [==============================] - 126s 161ms/step - loss: 2.1133 - accuracy: 0.2014 - top3_accuracy: 0.5004 - val_loss: 2.1170 - val_accuracy: 0.2045 - val_top3_accuracy: 0.5052\n",
      "Epoch 5/35\n",
      "782/782 [==============================] - 126s 161ms/step - loss: 2.0775 - accuracy: 0.2147 - top3_accuracy: 0.5263 - val_loss: 2.1038 - val_accuracy: 0.2122 - val_top3_accuracy: 0.4888\n",
      "Epoch 6/35\n",
      "782/782 [==============================] - 126s 161ms/step - loss: 2.0028 - accuracy: 0.2597 - top3_accuracy: 0.5740 - val_loss: 2.1165 - val_accuracy: 0.2271 - val_top3_accuracy: 0.5251\n",
      "Epoch 7/35\n",
      "782/782 [==============================] - 126s 161ms/step - loss: 1.9205 - accuracy: 0.2965 - top3_accuracy: 0.6248 - val_loss: 1.9761 - val_accuracy: 0.2718 - val_top3_accuracy: 0.5896\n",
      "Epoch 8/35\n",
      "782/782 [==============================] - 126s 161ms/step - loss: 1.8807 - accuracy: 0.3161 - top3_accuracy: 0.6468 - val_loss: 1.8766 - val_accuracy: 0.3170 - val_top3_accuracy: 0.6374\n",
      "Epoch 9/35\n",
      "782/782 [==============================] - 126s 161ms/step - loss: 1.8288 - accuracy: 0.3351 - top3_accuracy: 0.6730 - val_loss: 1.8683 - val_accuracy: 0.3246 - val_top3_accuracy: 0.6584\n",
      "Epoch 10/35\n",
      "782/782 [==============================] - 126s 161ms/step - loss: 1.7998 - accuracy: 0.3471 - top3_accuracy: 0.6871 - val_loss: 1.8126 - val_accuracy: 0.3451 - val_top3_accuracy: 0.6801\n",
      "Epoch 11/35\n",
      "782/782 [==============================] - 126s 161ms/step - loss: 1.7606 - accuracy: 0.3596 - top3_accuracy: 0.6985 - val_loss: 1.7798 - val_accuracy: 0.3598 - val_top3_accuracy: 0.6954\n",
      "Epoch 12/35\n",
      "782/782 [==============================] - 126s 161ms/step - loss: 1.7181 - accuracy: 0.3800 - top3_accuracy: 0.7136 - val_loss: 1.6873 - val_accuracy: 0.3932 - val_top3_accuracy: 0.7296\n",
      "Epoch 13/35\n",
      "782/782 [==============================] - 125s 160ms/step - loss: 1.6631 - accuracy: 0.3998 - top3_accuracy: 0.7342 - val_loss: 1.6934 - val_accuracy: 0.3902 - val_top3_accuracy: 0.7280\n",
      "Epoch 14/35\n",
      "782/782 [==============================] - 126s 161ms/step - loss: 1.6256 - accuracy: 0.4128 - top3_accuracy: 0.7474 - val_loss: 1.6345 - val_accuracy: 0.4082 - val_top3_accuracy: 0.7521\n",
      "Epoch 15/35\n",
      "782/782 [==============================] - 126s 161ms/step - loss: 1.5823 - accuracy: 0.4303 - top3_accuracy: 0.7590 - val_loss: 1.5913 - val_accuracy: 0.4279 - val_top3_accuracy: 0.7650\n",
      "Epoch 16/35\n",
      "782/782 [==============================] - 126s 161ms/step - loss: 1.5405 - accuracy: 0.4456 - top3_accuracy: 0.7729 - val_loss: 1.5399 - val_accuracy: 0.4497 - val_top3_accuracy: 0.7744\n",
      "Epoch 17/35\n",
      "782/782 [==============================] - 126s 161ms/step - loss: 1.5031 - accuracy: 0.4584 - top3_accuracy: 0.7824 - val_loss: 1.5190 - val_accuracy: 0.4514 - val_top3_accuracy: 0.7830\n",
      "Epoch 18/35\n",
      "782/782 [==============================] - 126s 161ms/step - loss: 1.4614 - accuracy: 0.4760 - top3_accuracy: 0.7941 - val_loss: 1.4482 - val_accuracy: 0.4807 - val_top3_accuracy: 0.8018\n",
      "Epoch 19/35\n",
      "782/782 [==============================] - 126s 161ms/step - loss: 1.4178 - accuracy: 0.4928 - top3_accuracy: 0.8056 - val_loss: 1.4330 - val_accuracy: 0.4842 - val_top3_accuracy: 0.8107\n",
      "Epoch 20/35\n",
      "782/782 [==============================] - 126s 161ms/step - loss: 1.3780 - accuracy: 0.5052 - top3_accuracy: 0.8167 - val_loss: 1.4229 - val_accuracy: 0.4949 - val_top3_accuracy: 0.8105\n",
      "Epoch 21/35\n",
      "782/782 [==============================] - 126s 161ms/step - loss: 1.3377 - accuracy: 0.5214 - top3_accuracy: 0.8278 - val_loss: 1.3912 - val_accuracy: 0.5082 - val_top3_accuracy: 0.8183\n",
      "Epoch 22/35\n",
      "782/782 [==============================] - 125s 160ms/step - loss: 1.2994 - accuracy: 0.5347 - top3_accuracy: 0.8368 - val_loss: 1.3897 - val_accuracy: 0.5068 - val_top3_accuracy: 0.8162\n",
      "Epoch 23/35\n",
      "782/782 [==============================] - 126s 161ms/step - loss: 1.2578 - accuracy: 0.5494 - top3_accuracy: 0.8471 - val_loss: 1.3506 - val_accuracy: 0.5244 - val_top3_accuracy: 0.8263\n",
      "Epoch 24/35\n",
      "782/782 [==============================] - 126s 161ms/step - loss: 1.2136 - accuracy: 0.5643 - top3_accuracy: 0.8574 - val_loss: 1.3560 - val_accuracy: 0.5259 - val_top3_accuracy: 0.8272\n",
      "Epoch 25/35\n",
      "782/782 [==============================] - 126s 161ms/step - loss: 1.1681 - accuracy: 0.5797 - top3_accuracy: 0.8673 - val_loss: 1.3465 - val_accuracy: 0.5296 - val_top3_accuracy: 0.8291\n",
      "Epoch 26/35\n",
      "782/782 [==============================] - 125s 160ms/step - loss: 1.1228 - accuracy: 0.5959 - top3_accuracy: 0.8756 - val_loss: 1.3526 - val_accuracy: 0.5282 - val_top3_accuracy: 0.8317\n",
      "Epoch 27/35\n",
      "782/782 [==============================] - 125s 160ms/step - loss: 1.0808 - accuracy: 0.6107 - top3_accuracy: 0.8842 - val_loss: 1.3535 - val_accuracy: 0.5323 - val_top3_accuracy: 0.8302\n",
      "Epoch 28/35\n",
      "782/782 [==============================] - 125s 160ms/step - loss: 1.0476 - accuracy: 0.6237 - top3_accuracy: 0.8918 - val_loss: 1.3598 - val_accuracy: 0.5310 - val_top3_accuracy: 0.8271\n",
      "Epoch 29/35\n",
      "782/782 [==============================] - 125s 160ms/step - loss: 1.0104 - accuracy: 0.6381 - top3_accuracy: 0.8989 - val_loss: 1.3306 - val_accuracy: 0.5374 - val_top3_accuracy: 0.8347\n",
      "Epoch 30/35\n",
      "782/782 [==============================] - 126s 161ms/step - loss: 0.9908 - accuracy: 0.6461 - top3_accuracy: 0.9022 - val_loss: 1.3009 - val_accuracy: 0.5523 - val_top3_accuracy: 0.8423\n",
      "Epoch 31/35\n",
      "782/782 [==============================] - 125s 160ms/step - loss: 0.9733 - accuracy: 0.6509 - top3_accuracy: 0.9054 - val_loss: 1.2793 - val_accuracy: 0.5568 - val_top3_accuracy: 0.8459\n",
      "Epoch 32/35\n",
      "782/782 [==============================] - 125s 160ms/step - loss: 0.9697 - accuracy: 0.6549 - top3_accuracy: 0.9074 - val_loss: 1.2608 - val_accuracy: 0.5615 - val_top3_accuracy: 0.8486\n",
      "Epoch 33/35\n",
      "782/782 [==============================] - 126s 161ms/step - loss: 0.9847 - accuracy: 0.6514 - top3_accuracy: 0.9057 - val_loss: 1.2472 - val_accuracy: 0.5631 - val_top3_accuracy: 0.8529\n",
      "Epoch 34/35\n",
      "782/782 [==============================] - 125s 160ms/step - loss: 1.0245 - accuracy: 0.6366 - top3_accuracy: 0.8990 - val_loss: 1.2406 - val_accuracy: 0.5622 - val_top3_accuracy: 0.8500\n",
      "Epoch 35/35\n",
      "782/782 [==============================] - 125s 160ms/step - loss: 1.0998 - accuracy: 0.6133 - top3_accuracy: 0.8883 - val_loss: 1.2696 - val_accuracy: 0.5456 - val_top3_accuracy: 0.8470\n"
     ]
    }
   ],
   "source": [
    "%load_ext tensorboard\n",
    "import datetime\n",
    "from utils.callback import OneCycleScheduler\n",
    "\n",
    "model_name = 'ViT-cifar10'\n",
    "#Callback for tensorboard logging\n",
    "log_dir = \"runs/\" + datetime.datetime.now().strftime(\"%Y%m%d-%H%M%S\")+'-'+model_name\n",
    "tensorboard_callback = tf.keras.callbacks.TensorBoard(log_dir=log_dir, histogram_freq=1)\n",
    "#Callback for saving model checkpoints\n",
    "checkpoint_filepath = 'model-checkpoints/ViT/'+model_name\n",
    "model_checkpoint_callback = tf.keras.callbacks.ModelCheckpoint(\n",
    "    filepath=checkpoint_filepath,\n",
    "    save_weights_only=True,\n",
    "    monitor='val_accuracy',\n",
    "    mode='max',\n",
    "    save_best_only=True)\n",
    "\n",
    "#Define LR Scheduler (OneCycleScheduler)\n",
    "lr_schedule = OneCycleScheduler(learning_rate, total_steps)\n",
    "\n",
    "#Train model\n",
    "history = model.fit(\n",
    "    train_ds,\n",
    "    epochs=num_epochs,\n",
    "    validation_data=val_ds,\n",
    "    callbacks=[lr_schedule, tensorboard_callback, model_checkpoint_callback]\n",
    ")"
   ]
  },
  {
   "cell_type": "markdown",
   "id": "2fb81291",
   "metadata": {},
   "source": [
    "## Results\n",
    "\n",
    "We observe that the ViT achieves only ~56% validation accuracy after 35 epochs. We plot accuracy curves and measure the inference time:"
   ]
  },
  {
   "cell_type": "code",
   "execution_count": 38,
   "id": "22cd4238",
   "metadata": {
    "colab": {
     "base_uri": "https://localhost:8080/"
    },
    "id": "22cd4238",
    "outputId": "9e9d559f-fe52-4e01-ff41-92135c03156d"
   },
   "outputs": [
    {
     "data": {
      "text/plain": [
       "<tensorflow.python.training.tracking.util.CheckpointLoadStatus at 0x7f2fb46228e0>"
      ]
     },
     "execution_count": 38,
     "metadata": {},
     "output_type": "execute_result"
    }
   ],
   "source": [
    "# Load Best weights\n",
    "model.load_weights(checkpoint_filepath)"
   ]
  },
  {
   "cell_type": "code",
   "execution_count": 39,
   "id": "50b7baad",
   "metadata": {
    "colab": {
     "base_uri": "https://localhost:8080/"
    },
    "id": "50b7baad",
    "outputId": "e92be963-3da6-47bd-f8a7-5f6f2171be88"
   },
   "outputs": [
    {
     "name": "stdout",
     "output_type": "stream",
     "text": [
      "157/157 - 8s - loss: 1.2472 - accuracy: 0.5631 - top3_accuracy: 0.8529 - 8s/epoch - 51ms/step\n",
      "Restored model: (loss, validation accuracy, validation top-3 accuracy)\n",
      "  [1.2471970319747925, 0.5630999803543091, 0.8529000282287598]\n"
     ]
    }
   ],
   "source": [
    "# Re-evaluate based on loaded weights\n",
    "metrics = model.evaluate(val_ds, verbose=2)\n",
    "print(\"Restored model: (loss, validation accuracy, validation top-3 accuracy)\\n \",metrics)"
   ]
  },
  {
   "cell_type": "code",
   "execution_count": 40,
   "id": "4460022a",
   "metadata": {
    "colab": {
     "base_uri": "https://localhost:8080/",
     "height": 296
    },
    "id": "4460022a",
    "outputId": "0f6e85b9-1d53-4bcf-e63c-c862140c1ce7"
   },
   "outputs": [
    {
     "data": {
      "image/png": "[encoded data removed]",
      "text/plain": [
       "<Figure size 432x288 with 1 Axes>"
      ]
     },
     "metadata": {
      "needs_background": "light"
     },
     "output_type": "display_data"
    }
   ],
   "source": [
    "# Plot accuracy curve\n",
    "plt.plot(history.history[\"accuracy\"], label=\"train_acc\")\n",
    "plt.plot(history.history[\"val_accuracy\"], label=\"val_acc\")\n",
    "plt.xlabel(\"Epochs\")\n",
    "plt.ylabel(\"Accuracy\")\n",
    "plt.title(\"Train and Validation Accuracy Over Epochs\", fontsize=14)\n",
    "plt.legend()\n",
    "plt.grid()\n",
    "plt.show()"
   ]
  },
  {
   "cell_type": "code",
   "execution_count": null,
   "id": "051eb110",
   "metadata": {
    "colab": {
     "base_uri": "https://localhost:8080/"
    },
    "id": "051eb110",
    "outputId": "2372de88-db0f-4c15-f48e-86d8ff720af3"
   },
   "outputs": [],
   "source": [
    "# Check inference time\n",
    "import time\n",
    "\n",
    "images, labels = next(iter(val_ds))\n",
    "start_time = time.time() # set the time at which inference started\n",
    "model.predict(tf.expand_dims(images[0], axis=0))\n",
    "stop_time = time.time()\n",
    "duration = stop_time - start_time\n",
    "hours = duration // 3600\n",
    "minutes = (duration - (hours * 3600)) // 60\n",
    "seconds = duration - ((hours * 3600) + (minutes * 60))\n",
    "msg = f'training elapsed time was {seconds * 1000} ms)'\n",
    "print (msg, flush=True)"
   ]
  }
 ],
 "metadata": {
  "accelerator": "GPU",
  "colab": {
   "provenance": []
  },
  "gpuClass": "standard",
  "kernelspec": {
   "display_name": "Python 3 (ipykernel)",
   "language": "python",
   "name": "python3"
  },
  "language_info": {
   "codemirror_mode": {
    "name": "ipython",
    "version": 3
   },
   "file_extension": ".py",
   "mimetype": "text/x-python",
   "name": "python",
   "nbconvert_exporter": "python",
   "pygments_lexer": "ipython3",
   "version": "3.9.12"
  }
 },
 "nbformat": 4,
 "nbformat_minor": 5
}
