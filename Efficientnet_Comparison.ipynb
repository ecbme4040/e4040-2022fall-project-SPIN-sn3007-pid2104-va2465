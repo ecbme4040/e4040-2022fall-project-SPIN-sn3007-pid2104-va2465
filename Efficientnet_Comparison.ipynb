{
 "cells": [
  {
   "cell_type": "markdown",
   "id": "da264884",
   "metadata": {},
   "source": [
    "# EfficientNet-B4 Classification on CIFAR-10\n",
    "\n",
    "This notebook contains the code to train and evaluate a EfficientNet-B4 model on the CIFAR-10 dataset to compare with the Swin Transformer model. All code apart from model definition is exactly the same as the main notebook for training the Swin Transformer model."
   ]
  },
  {
   "cell_type": "code",
   "execution_count": 1,
   "id": "WKmicBSel7mo",
   "metadata": {
    "colab": {
     "base_uri": "https://localhost:8080/"
    },
    "id": "WKmicBSel7mo",
    "outputId": "194043db-630e-475e-bdbf-60e36fb85b19"
   },
   "outputs": [
    {
     "name": "stdout",
     "output_type": "stream",
     "text": [
      "Looking in indexes: https://pypi.org/simple, https://us-python.pkg.dev/colab-wheels/public/simple/\n",
      "Requirement already satisfied: tensorflow-addons in /usr/local/lib/python3.8/dist-packages (0.19.0)\n",
      "Requirement already satisfied: packaging in /usr/local/lib/python3.8/dist-packages (from tensorflow-addons) (21.3)\n",
      "Requirement already satisfied: typeguard>=2.7 in /usr/local/lib/python3.8/dist-packages (from tensorflow-addons) (2.7.1)\n",
      "Requirement already satisfied: pyparsing!=3.0.5,>=2.0.2 in /usr/local/lib/python3.8/dist-packages (from packaging->tensorflow-addons) (3.0.9)\n"
     ]
    }
   ],
   "source": [
    "!pip install tensorflow-addons"
   ]
  },
  {
   "cell_type": "code",
   "execution_count": 2,
   "id": "de2356a7",
   "metadata": {
    "id": "de2356a7"
   },
   "outputs": [],
   "source": [
    "import tensorflow as tf\n",
    "import tensorflow_datasets as tfds\n",
    "import tensorflow_addons as tfa\n",
    "import matplotlib.pyplot as plt\n",
    "import os\n",
    "\n",
    "#Disable warnings\n",
    "os.environ['TF_CPP_MIN_LOG_LEVEL'] = '2'\n",
    "tf.get_logger().setLevel('ERROR')"
   ]
  },
  {
   "cell_type": "code",
   "execution_count": 3,
   "id": "f094dbf4",
   "metadata": {
    "id": "f094dbf4"
   },
   "outputs": [],
   "source": [
    "# Load data\n",
    "batch_size = 64\n",
    "img_height = 32\n",
    "img_width = 32\n",
    "\n",
    "train_ds = tfds.load('cifar10', split='train', shuffle_files=True)\n",
    "val_ds = tfds.load('cifar10', split='test', shuffle_files=False)\n",
    "\n",
    "AUTOTUNE = tf.data.AUTOTUNE\n",
    "\n",
    "# For EfficientNet, we dont need to rescale values as it expects (0-255)\n",
    "# Add data augmentations\n",
    "trainAug = tf.keras.Sequential([\n",
    "    tf.keras.layers.Resizing(img_height, img_width),\n",
    "    tf.keras.layers.RandomFlip(\"horizontal_and_vertical\"),\n",
    "])\n",
    "# For validation, we just use resize/rescale\n",
    "valAug = tf.keras.Sequential([\n",
    "    tf.keras.layers.Resizing(img_height, img_width),\n",
    "])\n",
    "\n",
    "train_ds = train_ds.map(lambda features: (trainAug(features['image']), features['label']), \n",
    "                        num_parallel_calls=tf.data.AUTOTUNE)\n",
    "val_ds = val_ds.map(lambda features: (valAug(features['image']), features['label']), \n",
    "                        num_parallel_calls=tf.data.AUTOTUNE)\n",
    "\n",
    "train_ds = train_ds.cache()\n",
    "train_ds = train_ds.batch(batch_size)\n",
    "train_ds = train_ds.prefetch(tf.data.AUTOTUNE)\n",
    "\n",
    "val_ds = val_ds.cache()\n",
    "val_ds = val_ds.batch(batch_size)\n",
    "val_ds = val_ds.prefetch(tf.data.AUTOTUNE)"
   ]
  },
  {
   "cell_type": "code",
   "execution_count": 4,
   "id": "3a1739ce",
   "metadata": {
    "colab": {
     "base_uri": "https://localhost:8080/"
    },
    "id": "3a1739ce",
    "outputId": "bfd689fe-d919-46d0-ce5c-638bd0073542"
   },
   "outputs": [
    {
     "name": "stdout",
     "output_type": "stream",
     "text": [
      "(64, 32, 32, 3) (64,)\n"
     ]
    }
   ],
   "source": [
    "images, labels = next(iter(train_ds))\n",
    "print(images.shape, labels.shape)"
   ]
  },
  {
   "cell_type": "code",
   "execution_count": 5,
   "id": "93283d57",
   "metadata": {
    "id": "93283d57"
   },
   "outputs": [],
   "source": [
    "from tensorflow.compat.v1 import ConfigProto\n",
    "from tensorflow.compat.v1 import InteractiveSession\n",
    "config = ConfigProto()\n",
    "config.gpu_options.allow_growth = True\n",
    "session = InteractiveSession(config=config)\n"
   ]
  },
  {
   "cell_type": "code",
   "execution_count": 6,
   "id": "98c6da5d",
   "metadata": {
    "colab": {
     "base_uri": "https://localhost:8080/"
    },
    "id": "98c6da5d",
    "outputId": "53ed74ad-3ce7-4024-9755-ab99fa0903c4"
   },
   "outputs": [
    {
     "name": "stdout",
     "output_type": "stream",
     "text": [
      "# of batches in train set:  782\n"
     ]
    }
   ],
   "source": [
    "num_batches = train_ds.reduce(0, lambda x,_: x+1).numpy()\n",
    "print('# of batches in train set: ',num_batches)"
   ]
  },
  {
   "cell_type": "code",
   "execution_count": 7,
   "id": "bb762509",
   "metadata": {
    "colab": {
     "base_uri": "https://localhost:8080/"
    },
    "id": "bb762509",
    "outputId": "789ad2c7-fa53-4265-8656-341b5fba767e"
   },
   "outputs": [
    {
     "data": {
      "text/plain": [
       "[PhysicalDevice(name='/physical_device:GPU:0', device_type='GPU')]"
      ]
     },
     "execution_count": 7,
     "metadata": {},
     "output_type": "execute_result"
    }
   ],
   "source": [
    "#Check GPU\n",
    "tf.config.list_physical_devices('GPU')"
   ]
  },
  {
   "cell_type": "code",
   "execution_count": 8,
   "id": "6828d308",
   "metadata": {
    "id": "6828d308"
   },
   "outputs": [],
   "source": [
    "input_shape = (img_height, img_width, 3)\n",
    "\n",
    "learning_rate = 1e-3\n",
    "num_epochs = 35\n",
    "weight_decay = 1e-5\n",
    "\n",
    "total_steps = int(num_epochs * num_batches)"
   ]
  },
  {
   "cell_type": "code",
   "execution_count": 9,
   "id": "78bd3f5a",
   "metadata": {
    "colab": {
     "base_uri": "https://localhost:8080/"
    },
    "id": "78bd3f5a",
    "outputId": "9404270f-403c-4845-aab4-33e24660952e"
   },
   "outputs": [
    {
     "name": "stdout",
     "output_type": "stream",
     "text": [
      "Model: \"sequential_2\"\n",
      "_________________________________________________________________\n",
      " Layer (type)                Output Shape              Param #   \n",
      "=================================================================\n",
      " efficientnetb4 (Functional)  (None, None, None, 1792)  17673823 \n",
      "                                                                 \n",
      " flatten (Flatten)           (None, 1792)              0         \n",
      "                                                                 \n",
      " dense (Dense)               (None, 10)                17930     \n",
      "                                                                 \n",
      "=================================================================\n",
      "Total params: 17,691,753\n",
      "Trainable params: 17,566,546\n",
      "Non-trainable params: 125,207\n",
      "_________________________________________________________________\n"
     ]
    }
   ],
   "source": [
    "#Define and compile model\n",
    "model = tf.keras.Sequential([\n",
    "    tf.keras.layers.Input(shape=input_shape),\n",
    "    tf.keras.applications.efficientnet.EfficientNetB4(include_top=False,weights=None),\n",
    "    tf.keras.layers.Flatten(),\n",
    "    tf.keras.layers.Dense(10, activation='softmax')\n",
    "])\n",
    "model.summary()\n",
    "metric1 = tf.keras.metrics.SparseCategoricalAccuracy(name=\"accuracy\")\n",
    "metric2 = tf.keras.metrics.SparseTopKCategoricalAccuracy(3, name=\"top3_accuracy\")\n",
    "\n",
    "model.compile(\n",
    "    loss=tf.keras.losses.SparseCategoricalCrossentropy(),\n",
    "    optimizer=tfa.optimizers.AdamW(learning_rate=learning_rate, weight_decay=weight_decay),\n",
    "    metrics=[metric1, metric2]\n",
    ")"
   ]
  },
  {
   "cell_type": "code",
   "execution_count": 10,
   "id": "c0ae551d",
   "metadata": {
    "colab": {
     "base_uri": "https://localhost:8080/"
    },
    "id": "c0ae551d",
    "outputId": "253f02da-8fd1-4a5c-f2f2-a851ad7e6eff"
   },
   "outputs": [
    {
     "name": "stdout",
     "output_type": "stream",
     "text": [
      "Epoch 1/35\n",
      "782/782 [==============================] - 109s 108ms/step - loss: 2.3962 - accuracy: 0.1296 - top3_accuracy: 0.3675 - val_loss: 2.5281 - val_accuracy: 0.1202 - val_top3_accuracy: 0.3388\n",
      "Epoch 2/35\n",
      "782/782 [==============================] - 79s 101ms/step - loss: 2.3144 - accuracy: 0.1442 - top3_accuracy: 0.3982 - val_loss: 2.5475 - val_accuracy: 0.1280 - val_top3_accuracy: 0.3817\n",
      "Epoch 3/35\n",
      "782/782 [==============================] - 78s 100ms/step - loss: 2.2469 - accuracy: 0.1628 - top3_accuracy: 0.4407 - val_loss: 2.3765 - val_accuracy: 0.1681 - val_top3_accuracy: 0.4329\n",
      "Epoch 4/35\n",
      "782/782 [==============================] - 79s 101ms/step - loss: 2.1809 - accuracy: 0.1846 - top3_accuracy: 0.4800 - val_loss: 2.2443 - val_accuracy: 0.2089 - val_top3_accuracy: 0.5066\n",
      "Epoch 5/35\n",
      "782/782 [==============================] - 82s 105ms/step - loss: 2.1084 - accuracy: 0.2099 - top3_accuracy: 0.5297 - val_loss: 2.1097 - val_accuracy: 0.2325 - val_top3_accuracy: 0.5665\n",
      "Epoch 6/35\n",
      "782/782 [==============================] - 79s 100ms/step - loss: 2.0206 - accuracy: 0.2422 - top3_accuracy: 0.5877 - val_loss: 1.9730 - val_accuracy: 0.2660 - val_top3_accuracy: 0.6320\n",
      "Epoch 7/35\n",
      "782/782 [==============================] - 79s 101ms/step - loss: 1.9394 - accuracy: 0.2832 - top3_accuracy: 0.6452 - val_loss: 3.2229 - val_accuracy: 0.3041 - val_top3_accuracy: 0.6532\n",
      "Epoch 8/35\n",
      "782/782 [==============================] - 78s 100ms/step - loss: 1.9110 - accuracy: 0.3046 - top3_accuracy: 0.6687 - val_loss: 1.9184 - val_accuracy: 0.3076 - val_top3_accuracy: 0.6484\n",
      "Epoch 9/35\n",
      "782/782 [==============================] - 79s 101ms/step - loss: 1.9144 - accuracy: 0.3052 - top3_accuracy: 0.6714 - val_loss: 2.1310 - val_accuracy: 0.3446 - val_top3_accuracy: 0.6867\n",
      "Epoch 10/35\n",
      "782/782 [==============================] - 79s 101ms/step - loss: 1.7782 - accuracy: 0.3625 - top3_accuracy: 0.7290 - val_loss: 1.7634 - val_accuracy: 0.3448 - val_top3_accuracy: 0.7051\n",
      "Epoch 11/35\n",
      "782/782 [==============================] - 78s 100ms/step - loss: 1.8043 - accuracy: 0.3639 - top3_accuracy: 0.7221 - val_loss: 1.7745 - val_accuracy: 0.3883 - val_top3_accuracy: 0.7434\n",
      "Epoch 12/35\n",
      "782/782 [==============================] - 78s 100ms/step - loss: 1.7033 - accuracy: 0.4027 - top3_accuracy: 0.7524 - val_loss: 1.6973 - val_accuracy: 0.4231 - val_top3_accuracy: 0.7536\n",
      "Epoch 13/35\n",
      "782/782 [==============================] - 77s 99ms/step - loss: 1.6251 - accuracy: 0.4270 - top3_accuracy: 0.7696 - val_loss: 1.6419 - val_accuracy: 0.4283 - val_top3_accuracy: 0.7716\n",
      "Epoch 14/35\n",
      "782/782 [==============================] - 78s 100ms/step - loss: 1.5324 - accuracy: 0.4594 - top3_accuracy: 0.7905 - val_loss: 1.5176 - val_accuracy: 0.4479 - val_top3_accuracy: 0.7741\n",
      "Epoch 15/35\n",
      "782/782 [==============================] - 77s 98ms/step - loss: 1.4985 - accuracy: 0.4716 - top3_accuracy: 0.7926 - val_loss: 2.0467 - val_accuracy: 0.2437 - val_top3_accuracy: 0.5507\n",
      "Epoch 16/35\n",
      "782/782 [==============================] - 78s 100ms/step - loss: 1.5620 - accuracy: 0.4406 - top3_accuracy: 0.7707 - val_loss: 1.4612 - val_accuracy: 0.4840 - val_top3_accuracy: 0.8093\n",
      "Epoch 17/35\n",
      "782/782 [==============================] - 77s 99ms/step - loss: 1.4068 - accuracy: 0.5012 - top3_accuracy: 0.8128 - val_loss: 1.5301 - val_accuracy: 0.4410 - val_top3_accuracy: 0.7728\n",
      "Epoch 18/35\n",
      "782/782 [==============================] - 78s 100ms/step - loss: 1.3804 - accuracy: 0.5058 - top3_accuracy: 0.8205 - val_loss: 1.4335 - val_accuracy: 0.4856 - val_top3_accuracy: 0.8006\n",
      "Epoch 19/35\n",
      "782/782 [==============================] - 78s 99ms/step - loss: 1.3132 - accuracy: 0.5312 - top3_accuracy: 0.8319 - val_loss: 1.5002 - val_accuracy: 0.4658 - val_top3_accuracy: 0.7755\n",
      "Epoch 20/35\n",
      "782/782 [==============================] - 78s 99ms/step - loss: 1.2855 - accuracy: 0.5419 - top3_accuracy: 0.8352 - val_loss: 1.3321 - val_accuracy: 0.5384 - val_top3_accuracy: 0.8318\n",
      "Epoch 21/35\n",
      "782/782 [==============================] - 77s 99ms/step - loss: 1.3269 - accuracy: 0.5273 - top3_accuracy: 0.8273 - val_loss: 1.5030 - val_accuracy: 0.5061 - val_top3_accuracy: 0.8294\n",
      "Epoch 22/35\n",
      "782/782 [==============================] - 76s 98ms/step - loss: 1.2646 - accuracy: 0.5446 - top3_accuracy: 0.8466 - val_loss: 1.3157 - val_accuracy: 0.5362 - val_top3_accuracy: 0.8416\n",
      "Epoch 23/35\n",
      "782/782 [==============================] - 78s 100ms/step - loss: 1.1840 - accuracy: 0.5718 - top3_accuracy: 0.8627 - val_loss: 1.2439 - val_accuracy: 0.5682 - val_top3_accuracy: 0.8562\n",
      "Epoch 24/35\n",
      "782/782 [==============================] - 76s 97ms/step - loss: 1.1591 - accuracy: 0.5832 - top3_accuracy: 0.8675 - val_loss: 1.2781 - val_accuracy: 0.5430 - val_top3_accuracy: 0.8477\n",
      "Epoch 25/35\n",
      "782/782 [==============================] - 77s 99ms/step - loss: 1.1697 - accuracy: 0.5790 - top3_accuracy: 0.8650 - val_loss: 1.2037 - val_accuracy: 0.5713 - val_top3_accuracy: 0.8621\n",
      "Epoch 26/35\n",
      "782/782 [==============================] - 78s 100ms/step - loss: 1.1586 - accuracy: 0.5834 - top3_accuracy: 0.8689 - val_loss: 1.1532 - val_accuracy: 0.5872 - val_top3_accuracy: 0.8695\n",
      "Epoch 27/35\n",
      "782/782 [==============================] - 77s 99ms/step - loss: 1.1061 - accuracy: 0.6031 - top3_accuracy: 0.8763 - val_loss: 1.1548 - val_accuracy: 0.5931 - val_top3_accuracy: 0.8712\n",
      "Epoch 28/35\n",
      "782/782 [==============================] - 78s 100ms/step - loss: 1.0281 - accuracy: 0.6316 - top3_accuracy: 0.8948 - val_loss: 1.1187 - val_accuracy: 0.6008 - val_top3_accuracy: 0.8771\n",
      "Epoch 29/35\n",
      "782/782 [==============================] - 76s 97ms/step - loss: 0.9971 - accuracy: 0.6439 - top3_accuracy: 0.8979 - val_loss: 1.1747 - val_accuracy: 0.5862 - val_top3_accuracy: 0.8681\n",
      "Epoch 30/35\n",
      "782/782 [==============================] - 77s 99ms/step - loss: 0.9755 - accuracy: 0.6506 - top3_accuracy: 0.9031 - val_loss: 1.1207 - val_accuracy: 0.6056 - val_top3_accuracy: 0.8755\n",
      "Epoch 31/35\n",
      "782/782 [==============================] - 77s 99ms/step - loss: 0.9257 - accuracy: 0.6697 - top3_accuracy: 0.9108 - val_loss: 1.1197 - val_accuracy: 0.6064 - val_top3_accuracy: 0.8786\n",
      "Epoch 32/35\n",
      "782/782 [==============================] - 78s 99ms/step - loss: 0.8998 - accuracy: 0.6787 - top3_accuracy: 0.9166 - val_loss: 1.1325 - val_accuracy: 0.6082 - val_top3_accuracy: 0.8809\n",
      "Epoch 33/35\n",
      "782/782 [==============================] - 77s 98ms/step - loss: 0.8863 - accuracy: 0.6839 - top3_accuracy: 0.9169 - val_loss: 1.1069 - val_accuracy: 0.6094 - val_top3_accuracy: 0.8839\n",
      "Epoch 34/35\n",
      "782/782 [==============================] - 77s 98ms/step - loss: 0.8753 - accuracy: 0.6876 - top3_accuracy: 0.9186 - val_loss: 1.1058 - val_accuracy: 0.6102 - val_top3_accuracy: 0.8827\n",
      "Epoch 35/35\n",
      "782/782 [==============================] - 78s 99ms/step - loss: 0.8733 - accuracy: 0.6893 - top3_accuracy: 0.9194 - val_loss: 1.1101 - val_accuracy: 0.6112 - val_top3_accuracy: 0.8819\n"
     ]
    }
   ],
   "source": [
    "%load_ext tensorboard\n",
    "import datetime\n",
    "from utils.callback import OneCycleScheduler\n",
    "\n",
    "model_name = 'EfficientNetB3-cifar10'\n",
    "#Callback for tensorboard logging\n",
    "log_dir = \"runs/\" + datetime.datetime.now().strftime(\"%Y%m%d-%H%M%S\")+'-'+model_name\n",
    "tensorboard_callback = tf.keras.callbacks.TensorBoard(log_dir=log_dir, histogram_freq=1)\n",
    "#Callback for saving model checkpoints\n",
    "checkpoint_filepath = 'model-checkpoints/Efficientnet/'+model_name\n",
    "model_checkpoint_callback = tf.keras.callbacks.ModelCheckpoint(\n",
    "    filepath=checkpoint_filepath,\n",
    "    save_weights_only=True,\n",
    "    monitor='val_accuracy',\n",
    "    mode='max',\n",
    "    save_best_only=True)\n",
    "\n",
    "#Define LR Scheduler (OneCycleScheduler)\n",
    "lr_schedule = OneCycleScheduler(learning_rate, total_steps)\n",
    "\n",
    "#Train model\n",
    "history = model.fit(\n",
    "    train_ds,\n",
    "    epochs=num_epochs,\n",
    "    validation_data=val_ds,\n",
    "    callbacks=[lr_schedule, tensorboard_callback, model_checkpoint_callback]\n",
    ")"
   ]
  },
  {
   "cell_type": "markdown",
   "id": "d9a06dc8",
   "metadata": {},
   "source": [
    "## Results\n",
    "\n",
    "We observe that the EfficientNet-B4 achieves ~61.1% validation accuracy after 35 epochs. We plot accuracy curves and measure the inference time:"
   ]
  },
  {
   "cell_type": "code",
   "execution_count": 11,
   "id": "22cd4238",
   "metadata": {
    "colab": {
     "base_uri": "https://localhost:8080/"
    },
    "id": "22cd4238",
    "outputId": "5154e7c0-6274-4c09-c3c9-2fc34e17c368"
   },
   "outputs": [
    {
     "data": {
      "text/plain": [
       "<tensorflow.python.training.tracking.util.CheckpointLoadStatus at 0x7f454c0bd8b0>"
      ]
     },
     "execution_count": 11,
     "metadata": {},
     "output_type": "execute_result"
    }
   ],
   "source": [
    "# Load Best weights\n",
    "model.load_weights(checkpoint_filepath)"
   ]
  },
  {
   "cell_type": "code",
   "execution_count": 12,
   "id": "50b7baad",
   "metadata": {
    "colab": {
     "base_uri": "https://localhost:8080/"
    },
    "id": "50b7baad",
    "outputId": "35b2d2ad-25fd-400f-ae42-77d8c85d04a3"
   },
   "outputs": [
    {
     "name": "stdout",
     "output_type": "stream",
     "text": [
      "157/157 - 3s - loss: 1.1101 - accuracy: 0.6112 - top3_accuracy: 0.8819 - 3s/epoch - 20ms/step\n",
      "Restored model: (loss, validation accuracy, validation top-3 accuracy)\n",
      "  [1.1100741624832153, 0.6111999750137329, 0.8819000124931335]\n"
     ]
    }
   ],
   "source": [
    "# Re-evaluate based on loaded weights\n",
    "metrics = model.evaluate(val_ds, verbose=2)\n",
    "print(\"Restored model: (loss, validation accuracy, validation top-3 accuracy)\\n \",metrics)"
   ]
  },
  {
   "cell_type": "code",
   "execution_count": 13,
   "id": "4460022a",
   "metadata": {
    "colab": {
     "base_uri": "https://localhost:8080/",
     "height": 296
    },
    "id": "4460022a",
    "outputId": "e566e48b-dafd-40db-ab4a-75dd88f97300"
   },
   "outputs": [
    {
     "data": {
      "image/png": "[encoded data removed]",
      "text/plain": [
       "<Figure size 432x288 with 1 Axes>"
      ]
     },
     "metadata": {
      "needs_background": "light"
     },
     "output_type": "display_data"
    }
   ],
   "source": [
    "# Plot accuracy curve\n",
    "plt.plot(history.history[\"accuracy\"], label=\"train_acc\")\n",
    "plt.plot(history.history[\"val_accuracy\"], label=\"val_acc\")\n",
    "plt.xlabel(\"Epochs\")\n",
    "plt.ylabel(\"Accuracy\")\n",
    "plt.title(\"Train and Validation Accuracy Over Epochs\", fontsize=14)\n",
    "plt.legend()\n",
    "plt.grid()\n",
    "plt.show()"
   ]
  },
  {
   "cell_type": "code",
   "execution_count": 21,
   "id": "051eb110",
   "metadata": {
    "colab": {
     "base_uri": "https://localhost:8080/"
    },
    "id": "051eb110",
    "outputId": "766b1192-f694-4475-f5dc-241fd7a1e780"
   },
   "outputs": [
    {
     "name": "stdout",
     "output_type": "stream",
     "text": [
      "1/1 [==============================] - 0s 35ms/step\n",
      "training elapsed time was 67.80886650085449 ms)\n"
     ]
    }
   ],
   "source": [
    "# Check inference time\n",
    "import time\n",
    "\n",
    "images, labels = next(iter(val_ds))\n",
    "start_time = time.time() # set the time at which inference started\n",
    "model.predict(tf.expand_dims(images[0], axis=0))\n",
    "stop_time = time.time()\n",
    "duration = stop_time - start_time\n",
    "hours = duration // 3600\n",
    "minutes = (duration - (hours * 3600)) // 60\n",
    "seconds = duration - ((hours * 3600) + (minutes * 60))\n",
    "msg = f'training elapsed time was {seconds * 1000} ms)'\n",
    "print (msg, flush=True)"
   ]
  },
  {
   "cell_type": "code",
   "execution_count": 14,
   "id": "1yBhPWvFkxVe",
   "metadata": {
    "id": "1yBhPWvFkxVe"
   },
   "outputs": [],
   "source": []
  }
 ],
 "metadata": {
  "accelerator": "GPU",
  "colab": {
   "provenance": []
  },
  "gpuClass": "standard",
  "kernelspec": {
   "display_name": "Python 3 (ipykernel)",
   "language": "python",
   "name": "python3"
  },
  "language_info": {
   "codemirror_mode": {
    "name": "ipython",
    "version": 3
   },
   "file_extension": ".py",
   "mimetype": "text/x-python",
   "name": "python",
   "nbconvert_exporter": "python",
   "pygments_lexer": "ipython3",
   "version": "3.9.12"
  }
 },
 "nbformat": 4,
 "nbformat_minor": 5
}
